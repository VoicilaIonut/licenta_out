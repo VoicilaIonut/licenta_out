{
 "cells": [
  {
   "cell_type": "markdown",
   "id": "b0f86f22",
   "metadata": {},
   "source": [
    "## Imports"
   ]
  },
  {
   "cell_type": "code",
   "execution_count": 1,
   "id": "47cca1e8",
   "metadata": {},
   "outputs": [],
   "source": [
    "import pandas as pd\n",
    "import importlib\n",
    "from utils_gen import to_csv  \n",
    "# importlib.reload(utils_gen) # Reload the module\n",
    "# from utils_gen import to_csv # Re-import the specific function"
   ]
  },
  {
   "cell_type": "code",
   "execution_count": null,
   "id": "abe5cafc",
   "metadata": {},
   "outputs": [
    {
     "name": "stdout",
     "output_type": "stream",
     "text": [
      "DataFrame successfully saved to ../FINAL_CHATGPT_non_ai_doc_3_20250529_185353.csv\n"
     ]
    }
   ],
   "source": [
    "# # merge chatgpt files\n",
    "# def merge_pds_from_files(files):\n",
    "#     merged_df = pd.DataFrame()\n",
    "#     for file in files:\n",
    "#         df = pd.read_csv(file)\n",
    "#         merged_df = pd.concat([merged_df, df], ignore_index=True)\n",
    "#     return merged_df\n",
    "    \n",
    "# chatgpt_files = [\"../FINAL_CHATGPT_10000_12000_doctorat_non_ai.csv\", \"../FINAL_CHATGPT_22000_23000_non_ai_doc3.csv\", \"../FINAL_CHATGPT_23000_25000_non_ai_doc3.csv\"]\n",
    "# # gemini_files = [\"gemini/non_ai_doctorat_3_FINAL_GEMINI_24400_26000_final_20250521_154714.csv\", 'gemini/FINAL_GEMINI_gap_21000_24400_final_20250529_150828 copy_non-ai-doc3.csv']\n",
    "# merged_df = merge_pds_from_files(chatgpt_files)\n",
    "# to_csv(merged_df, \"../FINAL_CHATGPT_non_ai_doc_3.csv\") # SAVE"
   ]
  },
  {
   "cell_type": "markdown",
   "id": "103f7889",
   "metadata": {},
   "source": [
    "### Read ChatGPT df"
   ]
  },
  {
   "cell_type": "code",
   "execution_count": 3,
   "id": "b66736b7",
   "metadata": {},
   "outputs": [
    {
     "name": "stdout",
     "output_type": "stream",
     "text": [
      "20000\n"
     ]
    },
    {
     "data": {
      "text/html": [
       "<div>\n",
       "<style scoped>\n",
       "    .dataframe tbody tr th:only-of-type {\n",
       "        vertical-align: middle;\n",
       "    }\n",
       "\n",
       "    .dataframe tbody tr th {\n",
       "        vertical-align: top;\n",
       "    }\n",
       "\n",
       "    .dataframe thead th {\n",
       "        text-align: right;\n",
       "    }\n",
       "</style>\n",
       "<table border=\"1\" class=\"dataframe\">\n",
       "  <thead>\n",
       "    <tr style=\"text-align: right;\">\n",
       "      <th></th>\n",
       "      <th>original_index</th>\n",
       "      <th>generated</th>\n",
       "      <th>document_id</th>\n",
       "      <th>title</th>\n",
       "      <th>task</th>\n",
       "      <th>chapter</th>\n",
       "      <th>temperature</th>\n",
       "      <th>source</th>\n",
       "    </tr>\n",
       "  </thead>\n",
       "  <tbody>\n",
       "    <tr>\n",
       "      <th>0</th>\n",
       "      <td>1</td>\n",
       "      <td>Tema tezei de doctorat este de actualitate și ...</td>\n",
       "      <td>10589</td>\n",
       "      <td>1.1 Descrierea esențializată a obiectului cerc...</td>\n",
       "      <td>rephrase</td>\n",
       "      <td>Tema tezei de doctorat este de actualitate și ...</td>\n",
       "      <td>0.913149</td>\n",
       "      <td>chatgpt</td>\n",
       "    </tr>\n",
       "    <tr>\n",
       "      <th>1</th>\n",
       "      <td>3</td>\n",
       "      <td>Rezumatul textului:\\n\\nDeșeurile industriale n...</td>\n",
       "      <td>10589</td>\n",
       "      <td>2.3 Reciclarea deșeurilor industriale nerecupe...</td>\n",
       "      <td>summarize</td>\n",
       "      <td>Prin deșeuri industriale nerecuperabile se înț...</td>\n",
       "      <td>1.016349</td>\n",
       "      <td>chatgpt</td>\n",
       "    </tr>\n",
       "    <tr>\n",
       "      <th>2</th>\n",
       "      <td>5</td>\n",
       "      <td>Continuarea textului poate fi următoarea:\\n\\nD...</td>\n",
       "      <td>10589</td>\n",
       "      <td>3.2.1.6 Țunderul</td>\n",
       "      <td>continue</td>\n",
       "      <td>Principalele surse de generare a țunderului pe...</td>\n",
       "      <td>1.148388</td>\n",
       "      <td>chatgpt</td>\n",
       "    </tr>\n",
       "    <tr>\n",
       "      <th>3</th>\n",
       "      <td>7</td>\n",
       "      <td>Cenușile piritice provin de la fabricile de pr...</td>\n",
       "      <td>10589</td>\n",
       "      <td>3.3.3 Cenuși piritice (industria chimică)</td>\n",
       "      <td>rephrase</td>\n",
       "      <td>Cenușile piritice au rezultat de la fabricile ...</td>\n",
       "      <td>0.887565</td>\n",
       "      <td>chatgpt</td>\n",
       "    </tr>\n",
       "    <tr>\n",
       "      <th>4</th>\n",
       "      <td>9</td>\n",
       "      <td>Rezumatul textului:\\n\\nPentru a asigura calita...</td>\n",
       "      <td>10589</td>\n",
       "      <td>4.2.3 Calitatea peletelor utilizate în încărcă...</td>\n",
       "      <td>summarize</td>\n",
       "      <td>Ținând seama de solicitările la care sunt supu...</td>\n",
       "      <td>0.837273</td>\n",
       "      <td>chatgpt</td>\n",
       "    </tr>\n",
       "  </tbody>\n",
       "</table>\n",
       "</div>"
      ],
      "text/plain": [
       "   original_index                                          generated  \\\n",
       "0               1  Tema tezei de doctorat este de actualitate și ...   \n",
       "1               3  Rezumatul textului:\\n\\nDeșeurile industriale n...   \n",
       "2               5  Continuarea textului poate fi următoarea:\\n\\nD...   \n",
       "3               7  Cenușile piritice provin de la fabricile de pr...   \n",
       "4               9  Rezumatul textului:\\n\\nPentru a asigura calita...   \n",
       "\n",
       "   document_id                                              title       task  \\\n",
       "0        10589  1.1 Descrierea esențializată a obiectului cerc...   rephrase   \n",
       "1        10589  2.3 Reciclarea deșeurilor industriale nerecupe...  summarize   \n",
       "2        10589                                   3.2.1.6 Țunderul   continue   \n",
       "3        10589          3.3.3 Cenuși piritice (industria chimică)   rephrase   \n",
       "4        10589  4.2.3 Calitatea peletelor utilizate în încărcă...  summarize   \n",
       "\n",
       "                                             chapter  temperature   source  \n",
       "0  Tema tezei de doctorat este de actualitate și ...     0.913149  chatgpt  \n",
       "1  Prin deșeuri industriale nerecuperabile se înț...     1.016349  chatgpt  \n",
       "2  Principalele surse de generare a țunderului pe...     1.148388  chatgpt  \n",
       "3  Cenușile piritice au rezultat de la fabricile ...     0.887565  chatgpt  \n",
       "4  Ținând seama de solicitările la care sunt supu...     0.837273  chatgpt  "
      ]
     },
     "execution_count": 3,
     "metadata": {},
     "output_type": "execute_result"
    }
   ],
   "source": [
    "chatgpt_file= \"../FINAL_CHATGPT_0_20000_20250529_133659.csv\"\n",
    "chatgpt_df = pd.read_csv(chatgpt_file)\n",
    "chatgpt_df['source'] = 'chatgpt'\n",
    "print(len(chatgpt_df))\n",
    "chatgpt_df.head()"
   ]
  },
  {
   "cell_type": "markdown",
   "id": "4de32247",
   "metadata": {},
   "source": [
    "### Read GEMINI df"
   ]
  },
  {
   "cell_type": "code",
   "execution_count": 4,
   "id": "9fa3ebae",
   "metadata": {},
   "outputs": [
    {
     "name": "stdout",
     "output_type": "stream",
     "text": [
      "20000\n"
     ]
    },
    {
     "data": {
      "text/html": [
       "<div>\n",
       "<style scoped>\n",
       "    .dataframe tbody tr th:only-of-type {\n",
       "        vertical-align: middle;\n",
       "    }\n",
       "\n",
       "    .dataframe tbody tr th {\n",
       "        vertical-align: top;\n",
       "    }\n",
       "\n",
       "    .dataframe thead th {\n",
       "        text-align: right;\n",
       "    }\n",
       "</style>\n",
       "<table border=\"1\" class=\"dataframe\">\n",
       "  <thead>\n",
       "    <tr style=\"text-align: right;\">\n",
       "      <th></th>\n",
       "      <th>original_index</th>\n",
       "      <th>document_id</th>\n",
       "      <th>title</th>\n",
       "      <th>task</th>\n",
       "      <th>chapter</th>\n",
       "      <th>generated</th>\n",
       "      <th>temperature</th>\n",
       "      <th>source</th>\n",
       "    </tr>\n",
       "  </thead>\n",
       "  <tbody>\n",
       "    <tr>\n",
       "      <th>0</th>\n",
       "      <td>0</td>\n",
       "      <td>10589</td>\n",
       "      <td>PREFAȚĂ</td>\n",
       "      <td>rephrase</td>\n",
       "      <td>În cadrul programului de cercetare dezvoltat s...</td>\n",
       "      <td>Lucrarea de față, realizată în cadrul unui pro...</td>\n",
       "      <td>1.124430</td>\n",
       "      <td>gemini</td>\n",
       "    </tr>\n",
       "    <tr>\n",
       "      <th>1</th>\n",
       "      <td>2</td>\n",
       "      <td>10589</td>\n",
       "      <td>2.1 Noțiuni de bază</td>\n",
       "      <td>summarize</td>\n",
       "      <td>Deșeul reprezintă partea dintr-un material sau...</td>\n",
       "      <td>Deșeul reprezintă materialul rămas în urma pro...</td>\n",
       "      <td>0.892023</td>\n",
       "      <td>gemini</td>\n",
       "    </tr>\n",
       "    <tr>\n",
       "      <th>2</th>\n",
       "      <td>4</td>\n",
       "      <td>10589</td>\n",
       "      <td>3.2 Prezentarea generală a caracteristicilor c...</td>\n",
       "      <td>continue</td>\n",
       "      <td>În urma diferitelor etape de flux tehnologic d...</td>\n",
       "      <td>Aceasta presupune identificarea și implementar...</td>\n",
       "      <td>0.809159</td>\n",
       "      <td>gemini</td>\n",
       "    </tr>\n",
       "    <tr>\n",
       "      <th>3</th>\n",
       "      <td>6</td>\n",
       "      <td>10589</td>\n",
       "      <td>3.2.1.7 Zgură de oțelărie</td>\n",
       "      <td>rephrase</td>\n",
       "      <td>În secolul XX, în mod deosebit în a doua jumăt...</td>\n",
       "      <td>Iată o rescriere a textului:\\n\\nÎn secolul XX,...</td>\n",
       "      <td>0.859708</td>\n",
       "      <td>gemini</td>\n",
       "    </tr>\n",
       "    <tr>\n",
       "      <th>4</th>\n",
       "      <td>8</td>\n",
       "      <td>10589</td>\n",
       "      <td>4.2.1 Producerea peletelor</td>\n",
       "      <td>summarize</td>\n",
       "      <td>Peletizarea minereurilor de fier este cunoscut...</td>\n",
       "      <td>Peletizarea minereurilor de fier, o tehnică br...</td>\n",
       "      <td>0.901728</td>\n",
       "      <td>gemini</td>\n",
       "    </tr>\n",
       "  </tbody>\n",
       "</table>\n",
       "</div>"
      ],
      "text/plain": [
       "   original_index  document_id  \\\n",
       "0               0        10589   \n",
       "1               2        10589   \n",
       "2               4        10589   \n",
       "3               6        10589   \n",
       "4               8        10589   \n",
       "\n",
       "                                               title       task  \\\n",
       "0                                            PREFAȚĂ   rephrase   \n",
       "1                                2.1 Noțiuni de bază  summarize   \n",
       "2  3.2 Prezentarea generală a caracteristicilor c...   continue   \n",
       "3                          3.2.1.7 Zgură de oțelărie   rephrase   \n",
       "4                         4.2.1 Producerea peletelor  summarize   \n",
       "\n",
       "                                             chapter  \\\n",
       "0  În cadrul programului de cercetare dezvoltat s...   \n",
       "1  Deșeul reprezintă partea dintr-un material sau...   \n",
       "2  În urma diferitelor etape de flux tehnologic d...   \n",
       "3  În secolul XX, în mod deosebit în a doua jumăt...   \n",
       "4  Peletizarea minereurilor de fier este cunoscut...   \n",
       "\n",
       "                                           generated  temperature  source  \n",
       "0  Lucrarea de față, realizată în cadrul unui pro...     1.124430  gemini  \n",
       "1  Deșeul reprezintă materialul rămas în urma pro...     0.892023  gemini  \n",
       "2  Aceasta presupune identificarea și implementar...     0.809159  gemini  \n",
       "3  Iată o rescriere a textului:\\n\\nÎn secolul XX,...     0.859708  gemini  \n",
       "4  Peletizarea minereurilor de fier, o tehnică br...     0.901728  gemini  "
      ]
     },
     "execution_count": 4,
     "metadata": {},
     "output_type": "execute_result"
    }
   ],
   "source": [
    "gemini_file = \"../FINAL_GEMINI_0_20000_FINAL_20250529_165643.csv\" # bec we append to it\n",
    "gemini_df = pd.read_csv(gemini_file)\n",
    "gemini_df['source'] = 'gemini'\n",
    "print(len(gemini_df))\n",
    "gemini_df.head()"
   ]
  },
  {
   "cell_type": "markdown",
   "id": "ec2d8b33",
   "metadata": {},
   "source": [
    "### Read non_ai_doctorat df"
   ]
  },
  {
   "cell_type": "code",
   "execution_count": 5,
   "id": "3c54ba13",
   "metadata": {},
   "outputs": [
    {
     "name": "stdout",
     "output_type": "stream",
     "text": [
      "5000\n"
     ]
    }
   ],
   "source": [
    "non_ai_doc_gemini_file = '../FINAL_GEMINI_21k_26k_non_ai_doc_3_20250529_170158.csv'\n",
    "advers_df_gemini = pd.read_csv(non_ai_doc_gemini_file) \n",
    "advers_df_gemini['source'] = 'gemini'\n",
    "print(len(advers_df_gemini))\n"
   ]
  },
  {
   "cell_type": "code",
   "execution_count": 6,
   "id": "54cbcd1e",
   "metadata": {},
   "outputs": [
    {
     "name": "stdout",
     "output_type": "stream",
     "text": [
      "5000\n"
     ]
    }
   ],
   "source": [
    "\n",
    "non_ai_doc_chatgpt_file= '../FINAL_CHATGPT_non_ai_doc_3_FULL.csv'\n",
    "advers_df_chatgpt = pd.read_csv(non_ai_doc_chatgpt_file)\n",
    "advers_df_chatgpt['source'] = 'chatgpt'\n",
    "print(len(advers_df_chatgpt))"
   ]
  },
  {
   "cell_type": "markdown",
   "id": "4ac206aa",
   "metadata": {},
   "source": [
    "### Merge dfs"
   ]
  },
  {
   "cell_type": "code",
   "execution_count": 18,
   "id": "fa19a333",
   "metadata": {},
   "outputs": [
    {
     "name": "stdout",
     "output_type": "stream",
     "text": [
      "10000\n"
     ]
    }
   ],
   "source": [
    "to_merge_dfs = [ advers_df_gemini, advers_df_chatgpt] #chatgpt_df, gemini_df] #\n",
    "results_df = pd.concat(to_merge_dfs, ignore_index=True)\n",
    "print(len(results_df))"
   ]
  },
  {
   "cell_type": "code",
   "execution_count": 14,
   "id": "740a3204",
   "metadata": {},
   "outputs": [
    {
     "name": "stdout",
     "output_type": "stream",
     "text": [
      "40000\n"
     ]
    }
   ],
   "source": [
    "results_df.dropna(subset=['generated'], inplace=True)\n",
    "print(len(results_df))"
   ]
  },
  {
   "cell_type": "markdown",
   "id": "3c063d6c",
   "metadata": {},
   "source": [
    "### Stats on bad entries"
   ]
  },
  {
   "cell_type": "code",
   "execution_count": 19,
   "id": "169b90fa",
   "metadata": {
    "vscode": {
     "languageId": "ruby"
    }
   },
   "outputs": [
    {
     "name": "stdout",
     "output_type": "stream",
     "text": [
      "Starts with 'Textul ':  7\n",
      "Starts with 'Iată ':  638\n",
      "Starts with 'Rezumatul ':  7\n",
      "Starts with '...':  26\n",
      "Starts with 'Continuarea ':  38\n",
      "Avg asterix:  4.2359\n",
      "NaN entries:  0\n"
     ]
    }
   ],
   "source": [
    "starts_with_textul = results_df['generated'].str.startswith(\"Textul \").sum()\n",
    "starts_with_iata = results_df['generated'].str.startswith(\"Iată \").sum()\n",
    "starts_with_rezumatul = results_df['generated'].str.startswith(\"Rezumatul \").sum()\n",
    "starts_with_dots = results_df['generated'].str.startswith(\"...\").sum()\n",
    "starts_with_continuarea = results_df['generated'].str.startswith(\"Continuarea \").sum()\n",
    "avg_asterix = results_df['generated'].str.count(r'\\*').mean()\n",
    "nan_entries = results_df['generated'].isna().sum()\n",
    "\n",
    "print(\"Starts with 'Textul ': \", starts_with_textul)\n",
    "print(\"Starts with 'Iată ': \", starts_with_iata)\n",
    "print(\"Starts with 'Rezumatul ': \", starts_with_rezumatul)\n",
    "print(\"Starts with '...': \", starts_with_dots)\n",
    "print(\"Starts with 'Continuarea ': \", starts_with_continuarea)\n",
    "print(\"Avg asterix: \", avg_asterix)\n",
    "print(\"NaN entries: \", nan_entries)"
   ]
  },
  {
   "cell_type": "markdown",
   "id": "e47aef86",
   "metadata": {},
   "source": [
    "### Fix bad entries"
   ]
  },
  {
   "cell_type": "code",
   "execution_count": 20,
   "id": "b4c15132",
   "metadata": {},
   "outputs": [],
   "source": [
    "import re \n",
    "\n",
    "counter_sentences_removed = 0\n",
    "\n",
    "def remove_first_sentence(text):\n",
    "    # Define punctuation marks that can end a sentence\n",
    "    punctuation_pattern = r'[:.!?;][ \\n]'\n",
    "    \n",
    "    # Find the first occurrence of any punctuation mark\n",
    "    match = re.search(punctuation_pattern, text)\n",
    "    if match:\n",
    "        # Return everything after the first sentence\n",
    "        return text[match.end():].strip()\n",
    "    return text\n",
    "\n",
    "def remove_asterisks(text):\n",
    "    return text.replace('*', '')\n",
    "\n",
    "def fix_entry(text):\n",
    "    text = remove_asterisks(text)\n",
    "    if (text.startswith(\"Textul \") or text.startswith(\"Iată \") or text.startswith(\"Rezumatul \") or text.startswith(\"...\") or text.startswith(\"Continuarea \")):\n",
    "        text = remove_first_sentence(text)\n",
    "        global counter_sentences_removed\n",
    "        counter_sentences_removed += 1\n",
    "    return text"
   ]
  },
  {
   "cell_type": "code",
   "execution_count": 32,
   "id": "d2422eb2",
   "metadata": {},
   "outputs": [
    {
     "name": "stdout",
     "output_type": "stream",
     "text": [
      "Doza de oxitocină administrată intraperitoneal, de aproximativ 0,05-0,06 mg/kg, a fost mai mică decât cele raportate ca având efecte anxiolitice (Ring et al., 2006). Cu toate acestea, am observat o scădere a emisiei de boluri în condiții stresante induse de plasarea în câmp deschis, comparativ cu grupul placebo administrat intraperitoneal. Aceste rezultate sunt în concordanță cu cele obținute de Crine și colab. în 1983 (Crine et al., 1983). Menționăm că dozele de oxitocină folosite în studiul nostru sunt de 10 ori mai mici decât cele raportate anterior. În plus, administrarea intraperitoneală a redus mobilitatea animalelor noastre, ceea ce susține utilizarea acestei metode ca model de stres experimental (Pendersen et al., 2011). Chiar și la această concentrație scăzută, oxitocina administrată intraperitoneal contracarează această reducere a mobilității, rezultând în lipsa diferenței de mobilitate între grupul tratat și cel de control.\n"
     ]
    }
   ],
   "source": [
    "# text= '''\n",
    "# Rezumatul textului rescris:\n",
    "\n",
    "# Doza de oxitocină administrată intraperitoneal, de aproximativ 0,05-0,06 mg/kg, a fost mai mică decât cele raportate ca având efecte anxiolitice (Ring et al., 2006). Cu toate acestea, am observat o scădere a emisiei de boluri în condiții stresante induse de plasarea în câmp deschis, comparativ cu grupul placebo administrat intraperitoneal. Aceste rezultate sunt în concordanță cu cele obținute de Crine și colab. în 1983 (Crine et al., 1983). Menționăm că dozele de oxitocină folosite în studiul nostru sunt de 10 ori mai mici decât cele raportate anterior. În plus, administrarea intraperitoneală a redus mobilitatea animalelor noastre, ceea ce susține utilizarea acestei metode ca model de stres experimental (Pendersen et al., 2011). Chiar și la această concentrație scăzută, oxitocina administrată intraperitoneal contracarează această reducere a mobilității, rezultând în lipsa diferenței de mobilitate între grupul tratat și cel de control.\n",
    "# '''\n",
    "# print(remove_first_sentence(text))"
   ]
  },
  {
   "cell_type": "code",
   "execution_count": 21,
   "id": "6206c5cc",
   "metadata": {},
   "outputs": [
    {
     "name": "stdout",
     "output_type": "stream",
     "text": [
      "counter_sentences_removed: 723\n",
      "DataFrame successfully saved to ../FINAL_GEMINI_CHATGPT_ADVERS_fixed_20250529_185904.csv\n"
     ]
    }
   ],
   "source": [
    "fixed_df = results_df.copy()\n",
    "\n",
    "counter_sentences_removed = 0\n",
    "fixed_df['generated'] = fixed_df['generated'].apply(fix_entry)\n",
    "print(f\"counter_sentences_removed: {counter_sentences_removed}\")\n",
    "\n",
    "to_csv(fixed_df, \"../FINAL_GEMINI_CHATGPT_ADVERS_fixed.csv\") # SAVE"
   ]
  },
  {
   "cell_type": "code",
   "execution_count": 78,
   "id": "6a5c2e13",
   "metadata": {},
   "outputs": [
    {
     "name": "stdout",
     "output_type": "stream",
     "text": [
      "generated\n",
      "Identificarea problemelor, așa cum e cazul temei de cercetare privind influențele factorilor sociali și psiho-sociali asupra convingerilor, atitudinilor și comportamentelor sexuale, alături de profilarea grupurilor de studiu investigate, se dovedește extrem de utilă pentru o înțelegere aprofundată a fenomenelor constatate și pentru o perspectivă sociologică de ansamblu. De asemenea, corelațiile cu diverse influențe sociale și psiho-sociale contribuie semnificativ la decelarea factorilor cauzali (Teater, 2010, 2011; Green Lister, 2012).\n",
      "\n",
      "Metoda de influențare, modificare și corecție a convingerilor, atitudinilor și comportamentelor generale prin campanii de informare este larg recunoscută. Eficiența acestora depinde în mare măsură de metodele utilizate, de capacitatea de a motiva grupul țintă, de modalitatea de transmitere a informațiilor, de numărul de persoane atinse, de resursele disponibile și de alți factori. Una dintre cele mai accesibile metode de intervenție în problematica studiată este cea bazată pe acțiuni informativ-educative. În acest sens, este esențial ca intervențiile să fie concepute ținând cont de o multitudine de factori, cum ar fi vârsta grupului, receptivitatea la anumite modalități de intervenție, confortul grupului față de aceste modalități, potențialul de impact asupra unui număr cât mai mare de persoane, precum și utilizarea unor metode de intervenție moderne, adaptate grupului țintă, din perspectiva abordărilor contemporane (Teater, 2010, 2011; Adams, 2009; Green Lister, 2012). Pentru realizarea unor intervenții eficiente, cu impact maxim și costuri minime, este necesară o documentare amplă privind principiile paradigmei educaționale contemporane, dintr-o perspectivă inter-, pluri- și trans-disciplinară, cu utilizarea tehnologiei pentru eficientizarea metodelor de intervenție (Klein, 1990; Abbott, 1999). Studiile teoretice referitoare la acest tip de intervenții, bazate pe cercetările existente, dar și pe studii proprii, pot constitui o sursă importantă pentru conceperea instrumentelor de intervenție și pentru aplicarea eficientă a acestora asupra unor grupuri cât mai extinse din populația vizată.\n",
      "\n",
      "**4. Testarea longitudinală a rezultatelor și menținerea acestora prin intervenții informative și educaționale scurte, de tip videoclip**\n",
      "\n",
      "În campaniile de informare, de cele mai multe ori, rezultatele nu sunt urmărite concret, ci mai degrabă teoretic, lipsind etapa de evaluare a rezultatelor post-campanie și, cu atât mai mult, o evaluare longitudinală, care să urmărească durabilitatea efectelor nu doar după finalizarea campaniei, ci și la un interval de timp semnificativ după evaluarea post-campanie (Klein, 1990; Green Lister, 2012). Campaniile se derulează, de cele mai multe ori, limitat de resursele existente, iar rezultatele depind de acest factor, de metodologia și metodele utilizate atât în transmiterea informațiilor dorite, cât și în motivarea grupului țintă. Testarea rezultatelor aplicării modalităților de intervenție este esențială pentru a verifica eficiența acestora și pentru a trage concluzii privind ajustarea și adaptarea permanentă a lor în funcție de rezultate. Instrumentele, respectiv chestionarele, pentru măsurarea și identificarea convingerilor, atitudinilor și comportamentelor disfuncționale se aplică înainte de intervenție atât grupului de intervenție, cât și celui de control, pentru evaluarea pre-test. După intervenție, instrumentele se aplică din nou ambelor grupuri pentru identificarea modificărilor semnificative post-intervenție între cele două grupuri (Klein, 1990; Teater, 2010, 2011; Iluț, 1997). Corelația testării pre-intervenție și post-intervenție trebuie să fie dublată de o retestare longitudinală, la diferite perioade de la intervenție, pentru verificarea durabilității rezultatelor. Astfel, în funcție de posibilitățile existente, retestarea se efectuează după unul sau mai multe intervale post-intervenție, pentru verificarea longitudinală a rezultatelor și eficienței intervenției (Hammersley & Atkinson, 1983; Veyne, 1992, 1999; Heiman, 2001).\n",
      "\n",
      "by: unknown with task: non_ai_doctorat\n",
      "\n",
      "fixed\n",
      "Identificarea problemelor, așa cum e cazul temei de cercetare privind influențele factorilor sociali și psiho-sociali asupra convingerilor, atitudinilor și comportamentelor sexuale, alături de profilarea grupurilor de studiu investigate, se dovedește extrem de utilă pentru o înțelegere aprofundată a fenomenelor constatate și pentru o perspectivă sociologică de ansamblu. De asemenea, corelațiile cu diverse influențe sociale și psiho-sociale contribuie semnificativ la decelarea factorilor cauzali (Teater, 2010, 2011; Green Lister, 2012).\n",
      "\n",
      "Metoda de influențare, modificare și corecție a convingerilor, atitudinilor și comportamentelor generale prin campanii de informare este larg recunoscută. Eficiența acestora depinde în mare măsură de metodele utilizate, de capacitatea de a motiva grupul țintă, de modalitatea de transmitere a informațiilor, de numărul de persoane atinse, de resursele disponibile și de alți factori. Una dintre cele mai accesibile metode de intervenție în problematica studiată este cea bazată pe acțiuni informativ-educative. În acest sens, este esențial ca intervențiile să fie concepute ținând cont de o multitudine de factori, cum ar fi vârsta grupului, receptivitatea la anumite modalități de intervenție, confortul grupului față de aceste modalități, potențialul de impact asupra unui număr cât mai mare de persoane, precum și utilizarea unor metode de intervenție moderne, adaptate grupului țintă, din perspectiva abordărilor contemporane (Teater, 2010, 2011; Adams, 2009; Green Lister, 2012). Pentru realizarea unor intervenții eficiente, cu impact maxim și costuri minime, este necesară o documentare amplă privind principiile paradigmei educaționale contemporane, dintr-o perspectivă inter-, pluri- și trans-disciplinară, cu utilizarea tehnologiei pentru eficientizarea metodelor de intervenție (Klein, 1990; Abbott, 1999). Studiile teoretice referitoare la acest tip de intervenții, bazate pe cercetările existente, dar și pe studii proprii, pot constitui o sursă importantă pentru conceperea instrumentelor de intervenție și pentru aplicarea eficientă a acestora asupra unor grupuri cât mai extinse din populația vizată.\n",
      "\n",
      "4. Testarea longitudinală a rezultatelor și menținerea acestora prin intervenții informative și educaționale scurte, de tip videoclip\n",
      "\n",
      "În campaniile de informare, de cele mai multe ori, rezultatele nu sunt urmărite concret, ci mai degrabă teoretic, lipsind etapa de evaluare a rezultatelor post-campanie și, cu atât mai mult, o evaluare longitudinală, care să urmărească durabilitatea efectelor nu doar după finalizarea campaniei, ci și la un interval de timp semnificativ după evaluarea post-campanie (Klein, 1990; Green Lister, 2012). Campaniile se derulează, de cele mai multe ori, limitat de resursele existente, iar rezultatele depind de acest factor, de metodologia și metodele utilizate atât în transmiterea informațiilor dorite, cât și în motivarea grupului țintă. Testarea rezultatelor aplicării modalităților de intervenție este esențială pentru a verifica eficiența acestora și pentru a trage concluzii privind ajustarea și adaptarea permanentă a lor în funcție de rezultate. Instrumentele, respectiv chestionarele, pentru măsurarea și identificarea convingerilor, atitudinilor și comportamentelor disfuncționale se aplică înainte de intervenție atât grupului de intervenție, cât și celui de control, pentru evaluarea pre-test. După intervenție, instrumentele se aplică din nou ambelor grupuri pentru identificarea modificărilor semnificative post-intervenție între cele două grupuri (Klein, 1990; Teater, 2010, 2011; Iluț, 1997). Corelația testării pre-intervenție și post-intervenție trebuie să fie dublată de o retestare longitudinală, la diferite perioade de la intervenție, pentru verificarea durabilității rezultatelor. Astfel, în funcție de posibilitățile existente, retestarea se efectuează după unul sau mai multe intervale post-intervenție, pentru verificarea longitudinală a rezultatelor și eficienței intervenției (Hammersley & Atkinson, 1983; Veyne, 1992, 1999; Heiman, 2001).\n",
      "\n",
      "==============================\n",
      "generated\n",
      "**Marele Papirus Magic de la Paris (DLXXIV), o piesă de excepție a creștinismului egiptean timpuriu, datând din jurul anului 300 d.Hr., a fost descoperit și publicat de Dr. Charles Wessely în 1888. Acesta a depus o muncă titanică pentru a ordona și explicita textele dezorganizate. Manuscrise de mari dimensiuni, papirusul conține adjurații și formule ritualice, incluzând un exorcism în numele lui Iisus Hristos. Deși datat la anul 300 d.Hr., Wessely consideră că textul original este mult mai vechi. Descoperirea și păstrarea acestor papirusuri, inclusiv a altor 150 de manuscrise grecești apărute în Europa înainte de 1881, se datorează climatului arid al Egiptului. Textele, majoritar în limba egipteană cu transcriere greacă, reflectă influența limbii grecești în administrarea și cultura Egiptului elenizat. Deși cu rădăcini în creștinismul timpuriu, papirusul prezintă și elemente sincretiste, cu influențe păgâne și superstițioase, conținând o serie de treisprezece exorcisme.**\n",
      "\n",
      "by: unknown with task: non_ai_doctorat_summary\n",
      "\n",
      "fixed\n",
      "Marele Papirus Magic de la Paris (DLXXIV), o piesă de excepție a creștinismului egiptean timpuriu, datând din jurul anului 300 d.Hr., a fost descoperit și publicat de Dr. Charles Wessely în 1888. Acesta a depus o muncă titanică pentru a ordona și explicita textele dezorganizate. Manuscrise de mari dimensiuni, papirusul conține adjurații și formule ritualice, incluzând un exorcism în numele lui Iisus Hristos. Deși datat la anul 300 d.Hr., Wessely consideră că textul original este mult mai vechi. Descoperirea și păstrarea acestor papirusuri, inclusiv a altor 150 de manuscrise grecești apărute în Europa înainte de 1881, se datorează climatului arid al Egiptului. Textele, majoritar în limba egipteană cu transcriere greacă, reflectă influența limbii grecești în administrarea și cultura Egiptului elenizat. Deși cu rădăcini în creștinismul timpuriu, papirusul prezintă și elemente sincretiste, cu influențe păgâne și superstițioase, conținând o serie de treisprezece exorcisme.\n",
      "\n",
      "==============================\n",
      "generated\n",
      "Iată o variantă reformulată a textului, cu scopul de a-l face să pară scris de un doctorand român și de a evita identificarea ca fiind generat de inteligență artificială:\n",
      "\n",
      "\"Prezenta lucrare își propune, printre altele, să aducă în prim-plan studiul aprofundat al principiului subsidiarității și al doctrinei marjei de apreciere, așa cum acestea se manifestă în jurisprudența Curții Europene a Drepturilor Omului (CEDO), cu o atenție specială acordată impactului asupra României. Chiar dacă obiectivele generale ale tezei, așa cum au fost ele formulate inițial, nu vizează exclusiv aceste două concepte, ele sunt totuși intrinsec legate de demersul nostru. Ne interesează, de fapt, să stabilim dacă CEDO funcționează preponderent ca o garanție a drepturilor individuale sau, mai degrabă, ca o instanță cu rol constituțional, influențând procesele legislative și judiciare în statele membre. Ne preocupă, de asemenea, în ce măsură, prin existența Curții, legiferarea și aplicarea dreptului în statele parte la Convenție încep să se bazeze pe valori universal acceptate, depășind limitele naționale, în numele unei comunități europene. În consecință, analizăm dacă individul beneficiază de garanții suplimentare pentru respectarea drepturilor sale, iar statele membre resimt o influență pozitivă în ceea ce privește domnia legii și democrația.\n",
      "\n",
      "Relația dintre aceste obiective ambițioase și temele specifice abordate este, aș spune, una sugestivă și chiar definitorie. Nimic nu este mai potrivit decât această configurație, având în vedere că atât principiul subsidiarității, cât și doctrina marjei de apreciere – la elaborarea cărora, în special a celei din urmă, CEDO a jucat un rol fundamental – reprezintă instrumente esențiale utilizate de Curte pentru a-și îndeplini funcțiile. Or, precizarea acestor funcții, după cum am menționat anterior, constituie unul dintre obiectivele centrale ale lucrării noastre.\n",
      "\n",
      "Altfel spus, subsidiaritatea și marja de apreciere, pe care le vom detalia în cele ce urmează, prezintă o dualitate de esență. Ele pot fi înțelese, pe de o parte, în sensul în care au fost introduse – cel puțin în documentele explicite ale Adunării Parlamentare sau ale Curții –, și anume ca mijloace de a menaja susceptibilitățile suveraniste ale statelor parte la Convenție și de a degreva Curtea de volumul uriaș de dosare. Pe de altă parte, ele pot fi interpretate în sensul în care au fost aplicate frecvent de către judecători, respectiv ca un instrument de consolidare a aplicării și respectării Convenției în statele membre.\n",
      "\n",
      "Această dualitate, amplu dezbătută în literatura de specialitate – vom demonstra mai jos că, în privința subsidiarității, este vorba, în primul rând, de multiple moduri de definire și înțelegere, iar în privința marjei de apreciere, de absența unor criterii riguroase pentru stabilirea dimensiunii sale –, și considerată uneori ca o slăbiciune, alteori doar consemnată ca atare, este în opinia noastră, în realitate, benefică. Tocmai prin faptul că – desigur, cu prețul introducerii unui anumit relativism – permite Curții, în primul rând judecătorilor săi, să realizeze mai multe obiective simultan: să degreveze Curtea, să menajeze statele membre (de al căror acord depinde, în fond, însăși existența Curții), dar, în același timp, să impună modificarea legislației interne în acord cu Convenția și, mai ales, să ofere petenților aceeași încredere că beneficiază de o ultimă cale de atac, neutră, obiectivă și profesionistă.\n",
      "\n",
      "Este suficient să facem un exercițiu de imaginație și să ne gândim cum ar arăta jurisprudența Curții dacă atât subsidiaritatea, cât și marja de apreciere ar fi riguros și exhaustiv precizate. Cu siguranță, obiectivele menționate anterior nu ar mai putea fi realizate concomitent. Curtea ar obține, de exemplu, o degrevare și acordul statelor, dar ar pierde orice încredere din partea petenților, sau, invers, s-ar îneca în cazuri și ar risca să nu fie urmată în deciziile sale de aplicarea în statele parte. Pe scurt, ceea ce majorității autorilor le apare ca un minus teoretic, mie îmi apare ca un avantaj. La urma urmelor, această împrejurare lasă posibilitatea judecătorilor – pe a căror statură, după cum am arătat, se bazează în mare măsură Curtea – de a decide în funcție de fiecare context, stabilind un echilibru care să țină cont de toate aspectele relevante (de la prevederile naționale și cele ale Convenției până la disponibilitatea statelor de a implementa deciziile Curții).\n",
      "\n",
      "Astfel, acest capitol dedicat studierii subsidiarității și marjei de apreciere trebuie citit și înțeles având în vedere aceste considerente. Capitolul este structurat în patru secțiuni, dintre care primele două sunt dedicate principiului subsidiarității, iar următoarele două doctrinei marjei de apreciere. Prima secțiune va aborda o analiză istorică și sistematică, din Antichitate și până astăzi, insistând pe perioada modernă, a diferitelor înțelesuri sau teorii ale subsidiarității (chiar dacă numele ca atare nu a fost utilizat de autorii studiați). A doua secțiune va avea un caracter mult mai aplicativ, fiind consacrată studierii principiului subsidiarității în contextul CEDO, mai întâi așa cum apare acesta în jurisprudența Curții și apoi în procesul de înscriere a sa în preambulul Convenției.\n",
      "\n",
      "Partea despre doctrina marjei de apreciere este construită în oglindă cu cea privind principiul subsidiarității. Astfel, a treia secțiune (prima despre marja de apreciere) are un caracter mai teoretic, studiind problema raportului dintre universalismul drepturilor omului și marja de apreciere, în timp ce a patra secțiune, cu caracter aplicat, este dedicată analizării marjei de apreciere la CEDO, atât în jurisprudența acesteia, cât și în procesul introducerii sale în Preambulul Convenției. Marja de apreciere la CEDO reprezintă, de fapt, răspunsul acestei Curți la problema studiată în secțiunea teoretică, respectiv la raportul dintre caracterul universal al drepturilor omului și condițiile particulare din fiecare stat membru.\"\n",
      "\n",
      "by: unknown with task: non_ai_doctorat\n",
      "\n",
      "fixed\n",
      "\"Prezenta lucrare își propune, printre altele, să aducă în prim-plan studiul aprofundat al principiului subsidiarității și al doctrinei marjei de apreciere, așa cum acestea se manifestă în jurisprudența Curții Europene a Drepturilor Omului (CEDO), cu o atenție specială acordată impactului asupra României. Chiar dacă obiectivele generale ale tezei, așa cum au fost ele formulate inițial, nu vizează exclusiv aceste două concepte, ele sunt totuși intrinsec legate de demersul nostru. Ne interesează, de fapt, să stabilim dacă CEDO funcționează preponderent ca o garanție a drepturilor individuale sau, mai degrabă, ca o instanță cu rol constituțional, influențând procesele legislative și judiciare în statele membre. Ne preocupă, de asemenea, în ce măsură, prin existența Curții, legiferarea și aplicarea dreptului în statele parte la Convenție încep să se bazeze pe valori universal acceptate, depășind limitele naționale, în numele unei comunități europene. În consecință, analizăm dacă individul beneficiază de garanții suplimentare pentru respectarea drepturilor sale, iar statele membre resimt o influență pozitivă în ceea ce privește domnia legii și democrația.\n",
      "\n",
      "Relația dintre aceste obiective ambițioase și temele specifice abordate este, aș spune, una sugestivă și chiar definitorie. Nimic nu este mai potrivit decât această configurație, având în vedere că atât principiul subsidiarității, cât și doctrina marjei de apreciere – la elaborarea cărora, în special a celei din urmă, CEDO a jucat un rol fundamental – reprezintă instrumente esențiale utilizate de Curte pentru a-și îndeplini funcțiile. Or, precizarea acestor funcții, după cum am menționat anterior, constituie unul dintre obiectivele centrale ale lucrării noastre.\n",
      "\n",
      "Altfel spus, subsidiaritatea și marja de apreciere, pe care le vom detalia în cele ce urmează, prezintă o dualitate de esență. Ele pot fi înțelese, pe de o parte, în sensul în care au fost introduse – cel puțin în documentele explicite ale Adunării Parlamentare sau ale Curții –, și anume ca mijloace de a menaja susceptibilitățile suveraniste ale statelor parte la Convenție și de a degreva Curtea de volumul uriaș de dosare. Pe de altă parte, ele pot fi interpretate în sensul în care au fost aplicate frecvent de către judecători, respectiv ca un instrument de consolidare a aplicării și respectării Convenției în statele membre.\n",
      "\n",
      "Această dualitate, amplu dezbătută în literatura de specialitate – vom demonstra mai jos că, în privința subsidiarității, este vorba, în primul rând, de multiple moduri de definire și înțelegere, iar în privința marjei de apreciere, de absența unor criterii riguroase pentru stabilirea dimensiunii sale –, și considerată uneori ca o slăbiciune, alteori doar consemnată ca atare, este în opinia noastră, în realitate, benefică. Tocmai prin faptul că – desigur, cu prețul introducerii unui anumit relativism – permite Curții, în primul rând judecătorilor săi, să realizeze mai multe obiective simultan: să degreveze Curtea, să menajeze statele membre (de al căror acord depinde, în fond, însăși existența Curții), dar, în același timp, să impună modificarea legislației interne în acord cu Convenția și, mai ales, să ofere petenților aceeași încredere că beneficiază de o ultimă cale de atac, neutră, obiectivă și profesionistă.\n",
      "\n",
      "Este suficient să facem un exercițiu de imaginație și să ne gândim cum ar arăta jurisprudența Curții dacă atât subsidiaritatea, cât și marja de apreciere ar fi riguros și exhaustiv precizate. Cu siguranță, obiectivele menționate anterior nu ar mai putea fi realizate concomitent. Curtea ar obține, de exemplu, o degrevare și acordul statelor, dar ar pierde orice încredere din partea petenților, sau, invers, s-ar îneca în cazuri și ar risca să nu fie urmată în deciziile sale de aplicarea în statele parte. Pe scurt, ceea ce majorității autorilor le apare ca un minus teoretic, mie îmi apare ca un avantaj. La urma urmelor, această împrejurare lasă posibilitatea judecătorilor – pe a căror statură, după cum am arătat, se bazează în mare măsură Curtea – de a decide în funcție de fiecare context, stabilind un echilibru care să țină cont de toate aspectele relevante (de la prevederile naționale și cele ale Convenției până la disponibilitatea statelor de a implementa deciziile Curții).\n",
      "\n",
      "Astfel, acest capitol dedicat studierii subsidiarității și marjei de apreciere trebuie citit și înțeles având în vedere aceste considerente. Capitolul este structurat în patru secțiuni, dintre care primele două sunt dedicate principiului subsidiarității, iar următoarele două doctrinei marjei de apreciere. Prima secțiune va aborda o analiză istorică și sistematică, din Antichitate și până astăzi, insistând pe perioada modernă, a diferitelor înțelesuri sau teorii ale subsidiarității (chiar dacă numele ca atare nu a fost utilizat de autorii studiați). A doua secțiune va avea un caracter mult mai aplicativ, fiind consacrată studierii principiului subsidiarității în contextul CEDO, mai întâi așa cum apare acesta în jurisprudența Curții și apoi în procesul de înscriere a sa în preambulul Convenției.\n",
      "\n",
      "Partea despre doctrina marjei de apreciere este construită în oglindă cu cea privind principiul subsidiarității. Astfel, a treia secțiune (prima despre marja de apreciere) are un caracter mai teoretic, studiind problema raportului dintre universalismul drepturilor omului și marja de apreciere, în timp ce a patra secțiune, cu caracter aplicat, este dedicată analizării marjei de apreciere la CEDO, atât în jurisprudența acesteia, cât și în procesul introducerii sale în Preambulul Convenției. Marja de apreciere la CEDO reprezintă, de fapt, răspunsul acestei Curți la problema studiată în secțiunea teoretică, respectiv la raportul dintre caracterul universal al drepturilor omului și condițiile particulare din fiecare stat membru.\"\n",
      "\n",
      "==============================\n",
      "generated\n",
      "Iată o variantă a textului, reformulată pentru a semăna cu stilul unui doctorand român, evitând formulări specifice inteligenței artificiale și adăugând un ton ușor mai academic și descriptiv:\n",
      "\n",
      "\"Metoda de sinteză în stare solidă, denumită și \"metoda ceramică\", reprezintă, fără îndoială, cea mai la îndemână și totodată cea mai des utilizată cale de obținere a materialelor solide. Practic, esența acestei metode constă în supunerea la încălzire a unor precursori, de regulă nevolatili, care, prin reacție, conduc la formarea produsului dorit. Versatilitatea sa o face extrem de populară, găsindu-și aplicabilitatea atât în mediul industrial, cât și în cel de laborator, pentru sinteza unei game variate de materiale, precum oxizi metalici micști, sulfuri, nitruri, aluminosilicați și altele.\n",
      "\n",
      "Din punct de vedere procedural, metoda implică, în primă instanță, cântărirea riguroasă a precursorilor, în cele mai multe cazuri oxizi binari de înaltă puritate, în proporții stoechiometrice. Ulterior, aceștia sunt mojarati meticulos, până la obținerea unor particule uniforme și cât mai fine, scopul fiind maximizarea suprafeței de contact. Amestecul rezultat este apoi transferat cu atenție în creuzeți de alumină și supus unui tratament termic prelungit, la temperaturi considerabile.\n",
      "\n",
      "Deși simplitatea sa o face larg răspândită, metoda de sinteză în stare solidă nu este lipsită de neajunsuri. Un prim dezavantaj major îl constituie necesitatea operării la temperaturi ridicate, de obicei între 500 și 2000°C, ceea ce implică un consum energetic semnificativ. Această cerință energetică se datorează, în mare parte, numerelor de coordinare relativ mari ale compușilor ionici binari (variind între 4 și 12, în funcție de dimensiunea și sarcina ionului), fiind necesară o cantitate apreciabilă de energie pentru ca un cation să părăsească poziția sa din rețea și să difuzeze într-o nouă locație. Mai mult, nu este exclus ca faza sau compusul de interes să prezinte instabilitate sau să se descompună la temperaturi înalte. În astfel de condiții, reacțiile pot decurge extrem de lent. Creșterea temperaturii, este adevărat, accelerează reacția prin sporirea vitezei de difuzie a ionilor. În general, precursorii solizi nu sunt aduși la temperatura de topire, astfel încât reacția se desfășoară în stare solidă. Reacțiile în stare solidă pot avea loc doar la interfața dintre solide, iar odată ce stratul superficial a reacționat, procesul continuă pe măsură ce reactanții difuzează din interiorul volumului către interfață. Creșterea temperaturii facilitează atât reacția la interfață, cât și difuzia prin solid. Experimental, s-a demonstrat că o temperatură de aproximativ două treimi din temperatura de topire a oxizilor solizi asigură un timp de reacție satisfăcător. Chiar și în aceste condiții, difuzia rămâne adesea o etapă limitativă. Prin urmare, este crucial ca precursorii să fie procesați în particule cât mai mici și să fie omogenizați cu maximă rigurozitate, pentru a maximiza suprafața de contact și a minimiza distanța de difuzie. Numărul cristalitelor aflate în contact direct poate fi, de asemenea, îmbunătățit prin presarea amestecului de precursori cu o presă hidraulică. De obicei, amestecul de reacție este scos periodic în timpul procesului de încălzire și remojarat, pentru a expune noi suprafețe și a accelera astfel reacția.\n",
      "\n",
      "În concluzie, reacțiile în stare solidă prezintă o serie de dezavantaje notabile:\n",
      "\n",
      "*   Necesitatea unor temperaturi ridicate și timpi considerabili de reacție;\n",
      "*   Dependența stringentă a condițiilor de reacție și a calității produselor finale de procesarea materiilor prime (aspecte precum presarea, frezarea etc.);\n",
      "*   Imposibilitatea obținerii unor morfologii specifice, cum ar fi filme subțiri sau materiale cu porozitate prestabilită;\n",
      "*   Incompatibilitatea cu materiale organice sau biomateriale, din cauza condițiilor de reacție extreme impuse.\"\n",
      "\n",
      "by: unknown with task: non_ai_doctorat\n",
      "\n",
      "fixed\n",
      "\"Metoda de sinteză în stare solidă, denumită și \"metoda ceramică\", reprezintă, fără îndoială, cea mai la îndemână și totodată cea mai des utilizată cale de obținere a materialelor solide. Practic, esența acestei metode constă în supunerea la încălzire a unor precursori, de regulă nevolatili, care, prin reacție, conduc la formarea produsului dorit. Versatilitatea sa o face extrem de populară, găsindu-și aplicabilitatea atât în mediul industrial, cât și în cel de laborator, pentru sinteza unei game variate de materiale, precum oxizi metalici micști, sulfuri, nitruri, aluminosilicați și altele.\n",
      "\n",
      "Din punct de vedere procedural, metoda implică, în primă instanță, cântărirea riguroasă a precursorilor, în cele mai multe cazuri oxizi binari de înaltă puritate, în proporții stoechiometrice. Ulterior, aceștia sunt mojarati meticulos, până la obținerea unor particule uniforme și cât mai fine, scopul fiind maximizarea suprafeței de contact. Amestecul rezultat este apoi transferat cu atenție în creuzeți de alumină și supus unui tratament termic prelungit, la temperaturi considerabile.\n",
      "\n",
      "Deși simplitatea sa o face larg răspândită, metoda de sinteză în stare solidă nu este lipsită de neajunsuri. Un prim dezavantaj major îl constituie necesitatea operării la temperaturi ridicate, de obicei între 500 și 2000°C, ceea ce implică un consum energetic semnificativ. Această cerință energetică se datorează, în mare parte, numerelor de coordinare relativ mari ale compușilor ionici binari (variind între 4 și 12, în funcție de dimensiunea și sarcina ionului), fiind necesară o cantitate apreciabilă de energie pentru ca un cation să părăsească poziția sa din rețea și să difuzeze într-o nouă locație. Mai mult, nu este exclus ca faza sau compusul de interes să prezinte instabilitate sau să se descompună la temperaturi înalte. În astfel de condiții, reacțiile pot decurge extrem de lent. Creșterea temperaturii, este adevărat, accelerează reacția prin sporirea vitezei de difuzie a ionilor. În general, precursorii solizi nu sunt aduși la temperatura de topire, astfel încât reacția se desfășoară în stare solidă. Reacțiile în stare solidă pot avea loc doar la interfața dintre solide, iar odată ce stratul superficial a reacționat, procesul continuă pe măsură ce reactanții difuzează din interiorul volumului către interfață. Creșterea temperaturii facilitează atât reacția la interfață, cât și difuzia prin solid. Experimental, s-a demonstrat că o temperatură de aproximativ două treimi din temperatura de topire a oxizilor solizi asigură un timp de reacție satisfăcător. Chiar și în aceste condiții, difuzia rămâne adesea o etapă limitativă. Prin urmare, este crucial ca precursorii să fie procesați în particule cât mai mici și să fie omogenizați cu maximă rigurozitate, pentru a maximiza suprafața de contact și a minimiza distanța de difuzie. Numărul cristalitelor aflate în contact direct poate fi, de asemenea, îmbunătățit prin presarea amestecului de precursori cu o presă hidraulică. De obicei, amestecul de reacție este scos periodic în timpul procesului de încălzire și remojarat, pentru a expune noi suprafețe și a accelera astfel reacția.\n",
      "\n",
      "În concluzie, reacțiile în stare solidă prezintă o serie de dezavantaje notabile:\n",
      "\n",
      "   Necesitatea unor temperaturi ridicate și timpi considerabili de reacție;\n",
      "   Dependența stringentă a condițiilor de reacție și a calității produselor finale de procesarea materiilor prime (aspecte precum presarea, frezarea etc.);\n",
      "   Imposibilitatea obținerii unor morfologii specifice, cum ar fi filme subțiri sau materiale cu porozitate prestabilită;\n",
      "   Incompatibilitatea cu materiale organice sau biomateriale, din cauza condițiilor de reacție extreme impuse.\"\n",
      "\n",
      "==============================\n"
     ]
    }
   ],
   "source": [
    "# print a few samples from bad_df\n",
    "for index, row in results_df.sample(10).iterrows():\n",
    "    if (row.loc['generated'] != fixed_df.loc[index, 'generated']):\n",
    "        print(f\"generated\\n{row.loc['generated']}\\n\")\n",
    "        if 'source' in row:\n",
    "            print(f\"by: {row.loc['source']} with task: {row.loc['task']}\\n\") \n",
    "        else:\n",
    "            print(f\"by: unknown with task: {row.loc['task']}\\n\") \n",
    "        print(f\"fixed\\n{fixed_df.loc[index, 'generated']}\\n\")\n",
    "        # print(f\"original= {row.loc['chapter']}\")\n",
    "        print(\"===\" * 10)\n"
   ]
  },
  {
   "cell_type": "markdown",
   "id": "2a9db21c",
   "metadata": {},
   "source": [
    "# old"
   ]
  },
  {
   "cell_type": "code",
   "execution_count": 12,
   "id": "d7acd3ee",
   "metadata": {},
   "outputs": [],
   "source": [
    "# import pandas as pd\n",
    "\n",
    "# gemini_df = pd.read_csv(gemini_file)\n",
    "# filtered_df = pd.read_csv(\"../FINAL_GEMINI_CHATGPT_filtered.csv\")\n",
    "# # add into gemini_df the filtered_df if it is not already in gemini_df\n",
    "# for index, row in filtered_df.iterrows():\n",
    "#     if not ((gemini_df['generated'] == row['generated']) & (gemini_df['source'] == row['source'])).any():\n",
    "#         gemini_df = pd.concat([gemini_df, row.to_frame().T], ignore_index=True)"
   ]
  },
  {
   "cell_type": "code",
   "execution_count": 25,
   "id": "84fdc7ea",
   "metadata": {},
   "outputs": [
    {
     "name": "stdout",
     "output_type": "stream",
     "text": [
      "1988\n",
      "3976\n"
     ]
    }
   ],
   "source": [
    "df_new = pd.read_csv(\"gemini/FINAL_GEMINI_20000_22000_final_20250430_145852.csv\")\n",
    "df_new.dropna(subset=['generated'], inplace=True)\n",
    "print(len(df_new))\n",
    "\n",
    "filtered_df = pd.read_csv(\"../FINAL_GEMINI_CHATGPT_filtered_20250430_143607.csv\")\n",
    "# count the different entries in the new df vs df_filtered\n",
    "different = df_new[\n",
    "    ~df_new['generated'].isin(filtered_df['generated']) &\n",
    "    ~df_new['chapter'].isin(filtered_df['chapter'])\n",
    "].copy()\n",
    "print(len(different) * 2)"
   ]
  },
  {
   "cell_type": "code",
   "execution_count": null,
   "id": "e1e5c254",
   "metadata": {},
   "outputs": [
    {
     "name": "stdout",
     "output_type": "stream",
     "text": [
      "0.1     49.0\n",
      "0.2     77.0\n",
      "0.3    102.0\n",
      "0.4    123.0\n",
      "0.5    147.0\n",
      "0.6    180.0\n",
      "0.7    237.0\n",
      "0.8    319.0\n",
      "0.9    421.0\n",
      "1.0    799.0\n",
      "Name: generated, dtype: float64\n"
     ]
    }
   ],
   "source": [
    "# prin avg nr of words in the new df \n",
    "# avg_words = different['generated'].str.split().str.len().mean()\n",
    "\n",
    "# print(different['generated'].str.split().str.len().quantile([0.1, 0.2, 0.3, 0.4, 0.5, 0.6, 0.7, 0.8, 0.9, 1]))"
   ]
  },
  {
   "cell_type": "code",
   "execution_count": 38,
   "id": "7ae2e0e2",
   "metadata": {},
   "outputs": [
    {
     "data": {
      "text/plain": [
       "1"
      ]
     },
     "execution_count": 38,
     "metadata": {},
     "output_type": "execute_result"
    }
   ],
   "source": [
    "avg_words"
   ]
  }
 ],
 "metadata": {
  "kernelspec": {
   "display_name": "base",
   "language": "python",
   "name": "python3"
  },
  "language_info": {
   "codemirror_mode": {
    "name": "ipython",
    "version": 3
   },
   "file_extension": ".py",
   "mimetype": "text/x-python",
   "name": "python",
   "nbconvert_exporter": "python",
   "pygments_lexer": "ipython3",
   "version": "3.11.7"
  }
 },
 "nbformat": 4,
 "nbformat_minor": 5
}
